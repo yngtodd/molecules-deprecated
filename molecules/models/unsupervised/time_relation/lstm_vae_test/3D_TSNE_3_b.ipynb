{
 "cells": [
  {
   "cell_type": "code",
   "execution_count": 1,
   "metadata": {
    "collapsed": true
   },
   "outputs": [],
   "source": [
    "import numpy as np"
   ]
  },
  {
   "cell_type": "code",
   "execution_count": 2,
   "metadata": {},
   "outputs": [
    {
     "name": "stdout",
     "output_type": "stream",
     "text": [
      "load data shape: (224000, 3)\n"
     ]
    }
   ],
   "source": [
    "X = np.loadtxt(\"./data/encoded_train_150.out\"); # this is the latent space array\n",
    "print \"load data shape:\", X.shape;"
   ]
  },
  {
   "cell_type": "code",
   "execution_count": 3,
   "metadata": {},
   "outputs": [],
   "source": [
    "#from sklearn.manifold import TSNE;\n",
    "X1 = X[::10];\n",
    "#X_embedded = TSNE(n_components=3).fit_transform(X1);\n",
    "#print \"after TSNE operation: embedded shape\", X_embedded.shape;"
   ]
  },
  {
   "cell_type": "code",
   "execution_count": 4,
   "metadata": {
    "collapsed": true
   },
   "outputs": [],
   "source": [
    "#np.save(\"./encoded_TSNE_3D.npy\", X_embedded)"
   ]
  },
  {
   "cell_type": "code",
   "execution_count": 5,
   "metadata": {},
   "outputs": [
    {
     "name": "stdout",
     "output_type": "stream",
     "text": [
      "(22400, 3)\n"
     ]
    }
   ],
   "source": [
    "#X_embedded = np.load(\"./encoded_TSNE_3D.npy\")\n",
    "X_embedded = X1\n",
    "print X_embedded.shape"
   ]
  },
  {
   "cell_type": "code",
   "execution_count": 6,
   "metadata": {},
   "outputs": [
    {
     "name": "stdout",
     "output_type": "stream",
     "text": [
      "224000.0\n"
     ]
    }
   ],
   "source": [
    "label = np.load(\"./data/cont-mat_mod.npy\");\n",
    "sep_1 = len(label)*0.8\n",
    "print sep_1\n",
    "label = label[0:int(sep_1)]\n",
    "y_train_c = label[::10,1];\n",
    "y_train_c_frac = label[::10,2];\n",
    "y_train_t = label[::10,0];\n",
    "x_pred_encoded = X_embedded;"
   ]
  },
  {
   "cell_type": "code",
   "execution_count": 7,
   "metadata": {},
   "outputs": [
    {
     "name": "stdout",
     "output_type": "stream",
     "text": [
      "224000.0\n"
     ]
    }
   ],
   "source": [
    "label_2 = np.load(\"./output/RMSD.npy\")\n",
    "print sep_1\n",
    "label_2 = label_2[0:int(sep_1)]\n",
    "y_train_rmsd = label_2[::10,1];"
   ]
  },
  {
   "cell_type": "code",
   "execution_count": 8,
   "metadata": {},
   "outputs": [
    {
     "name": "stdout",
     "output_type": "stream",
     "text": [
      "(22400,)\n",
      "(22400,)\n",
      "(22400,)\n",
      "(22400,)\n"
     ]
    }
   ],
   "source": [
    "print y_train_c.shape\n",
    "print y_train_c_frac.shape\n",
    "print y_train_t.shape\n",
    "print y_train_rmsd.shape"
   ]
  },
  {
   "cell_type": "code",
   "execution_count": 18,
   "metadata": {},
   "outputs": [],
   "source": [
    "# plot 1: \n",
    "import matplotlib.pyplot as plt;\n",
    "plt.rcParams['axes.facecolor'] = 'black'\n",
    "\n",
    "Dmax = y_train_c_frac;\n",
    "[n,s] = np.histogram(Dmax, 11); \n",
    "d = np.digitize(Dmax, s);\n",
    "#[n,s] = np.histogram(-np.log10(Dmax), 11); \n",
    "#d = np.digitize(-np.log10(Dmax), s);\n",
    "from matplotlib import cm;\n",
    "import matplotlib as mpl;\n",
    "cmi = plt.get_cmap('jet');\n",
    "cNorm = mpl.colors.Normalize(vmin=min(Dmax), vmax=max(Dmax));\n",
    "#cNorm = mpl.colors.Normalize(vmin=140, vmax=240);\n",
    "scalarMap = mpl.cm.ScalarMappable(norm=cNorm, cmap=cmi);\n",
    "import numpy as np;\n",
    "from mpl_toolkits.mplot3d import Axes3D;\n",
    "fig = plt.figure(figsize=(8.5,6));\n",
    "ax = fig.add_subplot(111, projection='3d');\n",
    "# scatter3D requires a 1D array for x, y, and z;\n",
    "# ravel() converts the 100x100 array into a 1x10000 array;\n",
    "p = ax.scatter3D(np.ravel(x_pred_encoded[:, 0]),\n",
    "            np.ravel(x_pred_encoded[:, 1]),\n",
    "           np.ravel(x_pred_encoded[:, 2]), \n",
    "            marker='.', c=scalarMap.to_rgba(Dmax));\n",
    "ax.set_xlim3d(np.amin(np.ravel(x_pred_encoded[:, 0])), np.amax(np.ravel(x_pred_encoded[:, 0])));\n",
    "ax.set_ylim3d(np.amin(np.ravel(x_pred_encoded[:, 1])), np.amax(np.ravel(x_pred_encoded[:, 1])));\n",
    "ax.set_zlim3d(np.amin(np.ravel(x_pred_encoded[:, 2])), np.amax(np.ravel(x_pred_encoded[:, 2])));\n",
    "ax.tick_params(axis='x', colors='white')\n",
    "ax.tick_params(axis='y', colors='white')\n",
    "ax.tick_params(axis='z', colors='white')\n",
    "#ax.xaxis.label.set_color('white')\n",
    "#ax.yaxis.label.set_color('white')\n",
    "#ax.zaxis.label.set_color('white')\n",
    "#ax.set_xlabel('VAE 0');\n",
    "#ax.set_ylabel('VAE 1');\n",
    "#ax.set_zlabel('VAE 2');\n",
    "scalarMap.set_array(Dmax);\n",
    "fig.colorbar(scalarMap);\n",
    "#plt.show()\n",
    "plt.savefig('./fig/encoded_train_3D_frac.png', dpi=600);\n",
    "plt.clf();"
   ]
  },
  {
   "cell_type": "code",
   "execution_count": 19,
   "metadata": {},
   "outputs": [],
   "source": [
    "# plot 1: \n",
    "import matplotlib.pyplot as plt;\n",
    "plt.rcParams['axes.facecolor'] = 'black'\n",
    "\n",
    "Dmax = y_train_rmsd;\n",
    "[n,s] = np.histogram(Dmax, 11); \n",
    "d = np.digitize(Dmax, s);\n",
    "#[n,s] = np.histogram(-np.log10(Dmax), 11); \n",
    "#d = np.digitize(-np.log10(Dmax), s);\n",
    "from matplotlib import cm;\n",
    "import matplotlib as mpl;\n",
    "cmi = plt.get_cmap('jet');\n",
    "cNorm = mpl.colors.Normalize(vmin=min(Dmax), vmax=max(Dmax));\n",
    "#cNorm = mpl.colors.Normalize(vmin=140, vmax=240);\n",
    "scalarMap = mpl.cm.ScalarMappable(norm=cNorm, cmap=cmi);\n",
    "import numpy as np;\n",
    "from mpl_toolkits.mplot3d import Axes3D;\n",
    "fig = plt.figure(figsize=(8.5,6));\n",
    "ax = fig.add_subplot(111, projection='3d');\n",
    "# scatter3D requires a 1D array for x, y, and z;\n",
    "# ravel() converts the 100x100 array into a 1x10000 array;\n",
    "p = ax.scatter3D(np.ravel(x_pred_encoded[:, 0]),\n",
    "            np.ravel(x_pred_encoded[:, 1]),\n",
    "           np.ravel(x_pred_encoded[:, 2]), \n",
    "            marker='.', c=scalarMap.to_rgba(Dmax));\n",
    "ax.set_xlim3d(np.amin(np.ravel(x_pred_encoded[:, 0])), np.amax(np.ravel(x_pred_encoded[:, 0])));\n",
    "ax.set_ylim3d(np.amin(np.ravel(x_pred_encoded[:, 1])), np.amax(np.ravel(x_pred_encoded[:, 1])));\n",
    "ax.set_zlim3d(np.amin(np.ravel(x_pred_encoded[:, 2])), np.amax(np.ravel(x_pred_encoded[:, 2])));\n",
    "ax.tick_params(axis='x', colors='white')\n",
    "ax.tick_params(axis='y', colors='white')\n",
    "ax.tick_params(axis='z', colors='white')\n",
    "#ax.xaxis.label.set_color('white')\n",
    "#ax.yaxis.label.set_color('white')\n",
    "#ax.zaxis.label.set_color('white')\n",
    "#ax.set_xlabel('VAE 0');\n",
    "#ax.set_ylabel('VAE 1');\n",
    "#ax.set_zlabel('VAE 2');\n",
    "scalarMap.set_array(Dmax);\n",
    "fig.colorbar(scalarMap);\n",
    "#plt.show()\n",
    "plt.savefig('./fig/encoded_train_3D_rmsd.png', dpi=600);\n",
    "plt.clf();"
   ]
  },
  {
   "cell_type": "code",
   "execution_count": null,
   "metadata": {
    "collapsed": true
   },
   "outputs": [],
   "source": []
  },
  {
   "cell_type": "code",
   "execution_count": null,
   "metadata": {
    "collapsed": true
   },
   "outputs": [],
   "source": []
  },
  {
   "cell_type": "code",
   "execution_count": null,
   "metadata": {
    "collapsed": true
   },
   "outputs": [],
   "source": []
  },
  {
   "cell_type": "code",
   "execution_count": null,
   "metadata": {
    "collapsed": true
   },
   "outputs": [],
   "source": []
  }
 ],
 "metadata": {
  "kernelspec": {
   "display_name": "Python 3",
   "language": "python",
   "name": "python3"
  },
  "language_info": {
   "codemirror_mode": {
    "name": "ipython",
    "version": 3
   },
   "file_extension": ".py",
   "mimetype": "text/x-python",
   "name": "python",
   "nbconvert_exporter": "python",
   "pygments_lexer": "ipython3",
   "version": "3.6.1"
  }
 },
 "nbformat": 4,
 "nbformat_minor": 2
}
